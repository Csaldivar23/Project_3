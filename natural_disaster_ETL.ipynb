{
 "cells": [
  {
   "cell_type": "code",
   "execution_count": 1,
   "id": "cf912e35-cf6f-4b86-8d85-7f7321897d02",
   "metadata": {},
   "outputs": [],
   "source": [
    "# Importing dependencies\n",
    "import pandas as pd\n",
    "import numpy as np\n",
    "pd.set_option('display.max_columns', None)"
   ]
  },
  {
   "cell_type": "code",
   "execution_count": null,
   "id": "6fd288e3-fa86-45ef-be02-fe5b9533a842",
   "metadata": {},
   "outputs": [],
   "source": [
    "# Reading the data into a Pandas DataFrame\n",
    "natural_disaster_df = pd.read_excel('Resources/public_emdat_2004_to_2024.xlsx')\n",
    "natural_disaster_df.head(10)"
   ]
  },
  {
   "cell_type": "code",
   "execution_count": null,
   "id": "88c3ff77-ef09-41ca-8f09-c7fa639a0f26",
   "metadata": {},
   "outputs": [],
   "source": [
    "#Info on columns\n",
    "natural_disaster_df.info()"
   ]
  },
  {
   "cell_type": "code",
   "execution_count": null,
   "id": "b913a8ad-2019-48b1-86e2-1c35a36dbb15",
   "metadata": {},
   "outputs": [],
   "source": [
    "#Get unique values in the Disaster Type and Disaster Subtype columns\n",
    "disaster_type = natural_disaster_df['Disaster Type'].unique()\n",
    "disaster_subtype = natural_disaster_df['Disaster Subtype'].unique()\n",
    "\n",
    "print(disaster_type)\n",
    "print(disaster_subtype)"
   ]
  },
  {
   "cell_type": "code",
   "execution_count": null,
   "id": "b97d4d84-bf64-4026-8572-3f22deb29f28",
   "metadata": {},
   "outputs": [],
   "source": [
    "print(len(disaster_type))\n",
    "print(len(disaster_subtype))"
   ]
  },
  {
   "cell_type": "code",
   "execution_count": null,
   "id": "52af811a-9762-4c62-ad43-87944a93f822",
   "metadata": {},
   "outputs": [],
   "source": [
    "#Drop unwanted columns   \n",
    "natural_disaster_df = natural_disaster_df.drop(columns=['Historic','Classification Key','Disaster Group','Disaster Subgroup',\n",
    "                                                        'External IDs','ISO','Location','Admin Units'])\n",
    "natural_disaster_df.head()"
   ]
  },
  {
   "cell_type": "code",
   "execution_count": null,
   "id": "284fad1a-ab3f-4290-a2d5-f2f71b77e167",
   "metadata": {},
   "outputs": [],
   "source": [
    "disaster_type_ids = np.arange(1, 11)\n",
    "disaster_subtype_ids = np.arange(1, 38)\n",
    "\n",
    "print(disaster_type_ids)\n",
    "print(disaster_subtype_ids)"
   ]
  },
  {
   "cell_type": "code",
   "execution_count": null,
   "id": "059985a2-822a-4fb5-874e-8e11b1cae816",
   "metadata": {},
   "outputs": [],
   "source": [
    "#Each Disaster Type was given an 'id' \n",
    "type_ids = [f\"type{type_ids}\" for type_ids in disaster_type_ids]\n",
    "\n",
    "#Each Disaster Subtype was given an 'id'     \n",
    "sub_type_ids = [f\"subtype{sub_type_ids}\" for sub_type_ids in disaster_subtype_ids]\n",
    "    \n",
    "print(type_ids)\n",
    "print(sub_type_ids)"
   ]
  },
  {
   "cell_type": "code",
   "execution_count": null,
   "id": "1948865e-b0ff-42d1-ae4a-09ddc0932d1d",
   "metadata": {},
   "outputs": [],
   "source": [
    "# Disaster Type with id in a Dataframe\n",
    "disaster_type_df = pd.DataFrame({\n",
    "    'disaster_type_id': type_ids,\n",
    "    'disaster_type': disaster_type\n",
    "})\n",
    "\n",
    "disaster_type_df"
   ]
  },
  {
   "cell_type": "code",
   "execution_count": null,
   "id": "8c6d90f9-1ebb-4ec5-bc03-de8694528b87",
   "metadata": {},
   "outputs": [],
   "source": [
    "# Disaster Subtype with id in a Dataframe\n",
    "disaster_subtype_df = pd.DataFrame({\n",
    "    'disaster_subtype_id': sub_type_ids,\n",
    "    'disaster_subtype': disaster_subtype\n",
    "})\n",
    "\n",
    "disaster_subtype_df"
   ]
  },
  {
   "cell_type": "code",
   "execution_count": null,
   "id": "1205ec35-1c89-476b-af9d-8446f6902200",
   "metadata": {},
   "outputs": [],
   "source": [
    "# Export Dataframes as CSV files.\n",
    "disaster_type_df.to_csv(\"Resources/category.csv\", index=False)\n",
    "\n",
    "disaster_subtype_df.to_csv(\"Resources/subcategory.csv\", index=False)"
   ]
  },
  {
   "cell_type": "code",
   "execution_count": null,
   "id": "858b1c45-8dac-4355-9103-fae7791893a3",
   "metadata": {},
   "outputs": [],
   "source": []
  }
 ],
 "metadata": {
  "kernelspec": {
   "display_name": "Python 3 (ipykernel)",
   "language": "python",
   "name": "python3"
  },
  "language_info": {
   "codemirror_mode": {
    "name": "ipython",
    "version": 3
   },
   "file_extension": ".py",
   "mimetype": "text/x-python",
   "name": "python",
   "nbconvert_exporter": "python",
   "pygments_lexer": "ipython3",
   "version": "3.11.7"
  }
 },
 "nbformat": 4,
 "nbformat_minor": 5
}
